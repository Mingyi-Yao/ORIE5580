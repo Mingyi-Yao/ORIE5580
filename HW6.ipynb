{
  "cells": [
    {
      "cell_type": "markdown",
      "metadata": {
        "id": "yEYDm_ICb4GC"
      },
      "source": [
        "# ORIE 4580/5580 Assignment 6\n",
        "\n",
        "#### Students: S. Ulam (su001) and J. von Neuman (jvn001)\n",
        "\n",
        "### Github link: [example Github link](https://github.com/SidBanerjee/ORIE4580-Simulation/blob/main/Notebooks/Unit0-Intro_Demos.ipynb)\n"
      ]
    },
    {
      "cell_type": "markdown",
      "source": [
        "### Instructions\n",
        "\n",
        "\n",
        "* Due Tuesday, November 14, at 11.59am on Gradescope.\n",
        "* Assignment .ipynb files available for download on [Canvas](https://canvas.cornell.edu/courses/56826#:~:text=Assignments-,Assignments,-Assignments%20Module%20publish). Do all your work in provided notebook (text answers typeset in markdown; show all required code and generate plots inline), and then generate and submit a pdf.\n",
        "* Ideally do assignments in groups of 2, and submit a single pdf with both names\n",
        "* Please show your work and clearly mark your answers.\n",
        "* You can use any code fragments given in class, found online (for example, on StackOverflow), or generated via Bard or ChatGPT (you are encouraged to use these for first drafts) **with proper referencing**. You can also discuss with others (again, please reference them if you do so); but you must write your final answers on your own as a team.\n",
        "\n",
        "\n",
        "\n",
        "### Suggested reading\n",
        "\n",
        "[Mor Harchol-Balter's chapter](https://canvas.cornell.edu/courses/56826/files/9180297/download?download_frd=1) on the Poisson process (on Canvas)"
      ],
      "metadata": {
        "id": "l3G_wUFRg9v6"
      }
    },
    {
      "cell_type": "code",
      "source": [
        "from scipy import integrate\n",
        "from scipy.stats import poisson\n",
        "import numpy as np\n",
        "import pandas as pd\n",
        "import math\n",
        "import datetime\n",
        "import calendar\n",
        "import matplotlib.pyplot as plt\n",
        "import warnings\n",
        "import random\n",
        "warnings.filterwarnings(\"ignore\")"
      ],
      "metadata": {
        "id": "urqMrBq8TJTF"
      },
      "execution_count": 1,
      "outputs": []
    },
    {
      "cell_type": "markdown",
      "source": [
        "___\n",
        "___\n",
        "\n",
        "# Question 1: Everyone goes to Gimme! (25 points)\n",
        "\n",
        "The downtown Ithaca Gimme! store sees a Poisson arrival process with rate\n",
        "\n",
        "$$ \\lambda(t)=\\frac{1}{56}\\left(5t^3-90t^2+300t+1480\\right) \\quad \\text{for } 0 \\leq t \\leq 12,$$\n",
        "\n",
        "over the 12 hours on the weekdays it is open.\n"
      ],
      "metadata": {
        "id": "e8ndo1Pm5S9E"
      }
    },
    {
      "cell_type": "markdown",
      "source": [
        "___\n",
        "\n",
        "**(a)** Compute the exact probability that the coffee store will see more than 250 customers in one 12 hour day. Do not use simulation.\n",
        "___\n"
      ],
      "metadata": {
        "id": "F4ENNINL5guU"
      }
    },
    {
      "cell_type": "markdown",
      "source": [
        "## Ans.\n",
        "Because it is a non-homogeneous Poisson Process, with rate $\\lambda(t)$. Then $N(12)-N(0)$ follows Poisson distribution with mean:\n",
        "\n",
        "$$\n",
        "λ \\triangleq \\int_0^{12} \\lambda(u) d u .\n",
        "$$\n",
        "\n",
        "Thus, to mathematically calculate the probability, we need to finish the intergral calculation at first. And then use Possion distribition to calculate the probability:\n",
        "\n",
        "$$\n",
        "P(N \\geq 250) = 1- \\sum_{i=0}^{250} \\frac{\\lambda^x}{x!} e^{-\\lambda}\n",
        "$$"
      ],
      "metadata": {
        "id": "Hn7JTwoETYgd"
      }
    },
    {
      "cell_type": "code",
      "source": [
        "def integrand(x):\n",
        "    return (1/56*(5*x**3-90*x**2+300*x+1480))\n",
        "result, error = integrate.quad(integrand, 0, 12)\n",
        "#result = sum([integrand(i) for i in range(0,12)])\n",
        "print(result)\n",
        "# next step is to use Poisson Distribution to calculate the probability\n",
        "prob = 1 - poisson.cdf(250, result)\n",
        "prob"
      ],
      "metadata": {
        "colab": {
          "base_uri": "https://localhost:8080/"
        },
        "id": "_scT1imCQ5M4",
        "outputId": "c86c0a97-4240-439d-de92-896528c0a818"
      },
      "execution_count": null,
      "outputs": [
        {
          "output_type": "stream",
          "name": "stdout",
          "text": [
            "239.99999999999994\n"
          ]
        },
        {
          "output_type": "execute_result",
          "data": {
            "text/plain": [
              "0.24711253205956585"
            ]
          },
          "metadata": {},
          "execution_count": 2
        }
      ]
    },
    {
      "cell_type": "markdown",
      "source": [
        "___\n",
        "\n",
        "**(b)** Use thinning to simulate 500 replications of the Poisson arrival process. Based on these replications, estimate the probability in Part (a) and report a 95\\% confidence interval.\n",
        "\n",
        "___"
      ],
      "metadata": {
        "id": "J9_Sh_Hf5rca"
      }
    },
    {
      "cell_type": "markdown",
      "source": [
        "## Ans.\n",
        "\n"
      ],
      "metadata": {
        "id": "iZ3iHE745ty7"
      }
    },
    {
      "cell_type": "code",
      "source": [
        "# step 1, visualize the \\lambda(t) curve to find the maximum point\n",
        "\n",
        "def lambda_function(t):\n",
        "    return (1/56) * (5*t**3 - 90*t**2 + 300*t + 1480)\n",
        "\n",
        "t = np.linspace(0, 12, 100)\n",
        "lambda_values = lambda_function(t)\n",
        "\n",
        "plt.plot(t, lambda_values, label='Lambda(t)')\n",
        "plt.xlabel('t')\n",
        "plt.ylabel('Lambda(t)')\n",
        "plt.title('Plot of Lambda(t)')\n",
        "plt.grid(True)\n",
        "plt.legend()\n",
        "plt.show()\n"
      ],
      "metadata": {
        "id": "45qmxWiu52Yd",
        "colab": {
          "base_uri": "https://localhost:8080/",
          "height": 472
        },
        "outputId": "8f4c5b77-89f5-4bee-ac74-2e43d7ea9145"
      },
      "execution_count": null,
      "outputs": [
        {
          "output_type": "display_data",
          "data": {
            "text/plain": [
              "<Figure size 640x480 with 1 Axes>"
            ],
            "image/png": "[encoded data removed]"
          },
          "metadata": {}
        }
      ]
    },
    {
      "cell_type": "markdown",
      "source": [
        "The maximum point is $t=2$. The corresponding $\\lambda$ value is $\\frac{220}{7}$. Then the procedure to simulate is as followed:\n",
        "\n",
        "1.  Find $\\lambda^* \\geq \\max_t \\lambda(t)$.\n",
        "2.  Start with $n=0$, $T = T_0 = 0$.\n",
        "3.  Generate interarrival time $A \\sim \\exp(\\lambda^*)$.  Set $T = T+A$.  \n",
        "4.  Generate $U \\sim Unif[0,1]$.  If $U \\leq \\lambda(T)/\\lambda^*$, then the event has occurred, so set $n=n+1$, $T_{n+1} = T$.\n",
        "5.  Repeat steps 3, 4 until we get to the end of our time interval."
      ],
      "metadata": {
        "id": "9ypU2Cw6YC7q"
      }
    },
    {
      "cell_type": "code",
      "source": [
        "220/7"
      ],
      "metadata": {
        "colab": {
          "base_uri": "https://localhost:8080/"
        },
        "id": "lW5-okHc2aVt",
        "outputId": "5fa0378e-51b6-417e-a5d1-38e93907fa7e"
      },
      "execution_count": null,
      "outputs": [
        {
          "output_type": "execute_result",
          "data": {
            "text/plain": [
              "31.428571428571427"
            ]
          },
          "metadata": {},
          "execution_count": 103
        }
      ]
    },
    {
      "cell_type": "code",
      "source": [
        "def lambda_function(t):\n",
        "    return (1/56) * (5*t**3 - 90*t**2 + 300*t + 1480)\n",
        "\n",
        "def sim_pois(T, lamb):\n",
        "  n = 0\n",
        "  t = 0\n",
        "  arrival_time = [0]\n",
        "  while t < T:\n",
        "    tmp = float(np.random.exponential(scale=1/lamb, size=1))\n",
        "    t += tmp\n",
        "    u = np.random.rand()\n",
        "    if u <= lambda_function(t)/lamb:\n",
        "      arrival_time.append(t)\n",
        "      n += 1\n",
        "  return n, arrival_time\n",
        "\n",
        "\n",
        "#res = []\n",
        "event = []\n",
        "T = 12\n",
        "lamb = 220/7\n",
        "arrival = []\n",
        "for i in range(500):\n",
        "  tmp, arrival_time = sim_pois(T, lamb)\n",
        "  arrival.append(arrival_time)\n",
        "  event.append(tmp)\n"
      ],
      "metadata": {
        "id": "BMumiGLhYmzY"
      },
      "execution_count": null,
      "outputs": []
    },
    {
      "cell_type": "code",
      "source": [
        "# confidence interval for the probability\n",
        "res = [int(i>250) for i in event]\n",
        "sample_mean = np.mean(res)\n",
        "sample_std = np.std(res, ddof=1)\n",
        "sample_size = len(res)\n",
        "lower_limit = sample_mean - 1.96 * (sample_std / np.sqrt(sample_size))\n",
        "upper_limit = sample_mean + 1.96 * (sample_std / np.sqrt(sample_size))\n",
        "print(\"Confidence Interval for the probability is:\", (lower_limit, upper_limit))"
      ],
      "metadata": {
        "colab": {
          "base_uri": "https://localhost:8080/"
        },
        "id": "iCGuUb6uad2v",
        "outputId": "653c3984-8b09-4451-f02f-2aac75daae22"
      },
      "execution_count": null,
      "outputs": [
        {
          "output_type": "stream",
          "name": "stdout",
          "text": [
            "Confidence Interval for the probability is: (0.2177076297934946, 0.29429237020650545)\n"
          ]
        }
      ]
    },
    {
      "cell_type": "markdown",
      "source": [
        "___\n",
        "**(c)** Based on your 500 replications, make a bar plot showing the average number of customers who arrive during each of the twelve hours of operation. Plot the rate function $\\lambda(t)$ and compare.\n",
        "___"
      ],
      "metadata": {
        "id": "atztSUh657dR"
      }
    },
    {
      "cell_type": "markdown",
      "source": [
        "## Ans."
      ],
      "metadata": {
        "id": "uJoZkqXT5_RA"
      }
    },
    {
      "cell_type": "code",
      "source": [
        "def classification_events(data):\n",
        "  interval_counts = {f'{i}-{i+1}': 0 for i in range(12)}\n",
        "  for item in data:\n",
        "      for key in interval_counts.keys():\n",
        "          start, end = map(float, key.split('-'))\n",
        "          if start <= item < end:\n",
        "              interval_counts[key] += 1\n",
        "  return list(interval_counts.values())"
      ],
      "metadata": {
        "id": "vOk2LNPtgaw2"
      },
      "execution_count": null,
      "outputs": []
    },
    {
      "cell_type": "code",
      "source": [
        "res = []\n",
        "for i in range(500):\n",
        "  res.append(classification_events(arrival[i]))\n",
        "df = pd.DataFrame(res)\n",
        "column_means = df.mean()\n",
        "column_means = list(column_means)"
      ],
      "metadata": {
        "id": "W6qZzy92ix6e"
      },
      "execution_count": null,
      "outputs": []
    },
    {
      "cell_type": "code",
      "source": [
        "categories =list(np.arange(1,13))\n",
        "values = column_means\n",
        "plt.bar(categories, values)\n",
        "plt.xlabel('Time')\n",
        "plt.ylabel('Number of Arrivals')"
      ],
      "metadata": {
        "colab": {
          "base_uri": "https://localhost:8080/",
          "height": 466
        },
        "id": "Y05eIGo7jMT0",
        "outputId": "525c0d45-a327-40c3-8d43-76c19e60e277"
      },
      "execution_count": null,
      "outputs": [
        {
          "output_type": "execute_result",
          "data": {
            "text/plain": [
              "Text(0, 0.5, 'Number of Arrivals')"
            ]
          },
          "metadata": {},
          "execution_count": 126
        },
        {
          "output_type": "display_data",
          "data": {
            "text/plain": [
              "<Figure size 640x480 with 1 Axes>"
            ],
            "image/png": "[encoded data removed]"
          },
          "metadata": {}
        }
      ]
    },
    {
      "cell_type": "markdown",
      "source": [
        "\n",
        "\n",
        "\n",
        "---\n",
        "---\n",
        "\n",
        "\n",
        "# Question 2: Putting my son to bed (30 points)\n",
        "\n",
        "Sid uses a Spotify playlist with $n$ soothing songs to put his son to sleep. He plays the playlist on shuffle, but is worried that some songs may not get played (he spent a long time curating the playlist!).\n",
        "\n",
        "___\n",
        "**(a)**\n",
        "Suppose Spotify truly picks a random song each time -- Sid wants to know how many songs it takes on average to play **every song** on his playlist. Build a simulator to estimate this for a different values of $n$, and use this to try and guess the function.\n",
        "\n",
        "*Note: Try and pick a large range of $n$ to get a sense of the function of number of songs needed to play all vs. $n$ -- if you are adventurous, try to fit the function. Make sure you always show your CIs!*\n",
        "___"
      ],
      "metadata": {
        "id": "5AMJpIgg0AUP"
      }
    },
    {
      "cell_type": "markdown",
      "source": [
        "## Ans.\n"
      ],
      "metadata": {
        "id": "FdZFPY8J00Nz"
      }
    },
    {
      "cell_type": "code",
      "source": [
        "def sim_song(N):\n",
        "  results = []\n",
        "  for _ in range(1000):\n",
        "    song_li = []\n",
        "    while len(set(song_li))< N:\n",
        "      song_li.append(np.random.randint(1,N+1))\n",
        "    results.append(len(song_li))\n",
        "  return results"
      ],
      "metadata": {
        "id": "7DYVuSOBTEm4"
      },
      "execution_count": 13,
      "outputs": []
    },
    {
      "cell_type": "code",
      "source": [
        "np.random.seed(10)\n",
        "li = []\n",
        "for i in range(1,101):\n",
        "  li.append(sim_song(i))"
      ],
      "metadata": {
        "id": "9gDPtuK3Uq4J"
      },
      "execution_count": 14,
      "outputs": []
    },
    {
      "cell_type": "code",
      "source": [
        "song_num = np.zeros(len(li))\n",
        "half_widths = np.zeros(len(li))\n",
        "for i in range(len(li)):\n",
        "    song_num[i] = np.mean(li[i])\n",
        "    half_widths[i] = 1.96*(np.std(li[i])/np.sqrt(len(li[i])))"
      ],
      "metadata": {
        "id": "DAmZKMnj7EPe"
      },
      "execution_count": 15,
      "outputs": []
    },
    {
      "cell_type": "code",
      "source": [
        "plt.plot(np.arange(1,len(li)+1,1), song_num, label='mean')\n",
        "plt.fill_between(np.arange(1,len(li)+1,1),song_num - half_widths,song_num + half_widths,alpha = 0.2,color='r',label='95% CI')\n",
        "plt.xlabel(\"n\")\n",
        "plt.ylabel(\"number of songs\")\n",
        "plt.title(\"number of songs to play every song\")\n",
        "plt.legend()\n",
        "plt.show()"
      ],
      "metadata": {
        "colab": {
          "base_uri": "https://localhost:8080/",
          "height": 472
        },
        "id": "mAjR8DMl5KcX",
        "outputId": "0dceba40-55f3-4837-bed0-27e70a8cc11f"
      },
      "execution_count": null,
      "outputs": [
        {
          "output_type": "display_data",
          "data": {
            "text/plain": [
              "<Figure size 640x480 with 1 Axes>"
            ],
            "image/png": "[encoded data removed]"
          },
          "metadata": {}
        }
      ]
    },
    {
      "cell_type": "markdown",
      "source": [
        "Above plot shows that as n increases, the number of songs needed to play every song would proportionally increase, and the 95% confidence intervals would also have a larger scope (larger half width)."
      ],
      "metadata": {
        "id": "SCzIaB-d8pkF"
      }
    },
    {
      "cell_type": "code",
      "source": [
        "from scipy.optimize import curve_fit\n",
        "def func(x, a, b,c):\n",
        "  return a*x**b+c\n",
        "popt, pcov = curve_fit(func, np.arange(1,len(li)+1,1), song_num)\n",
        "print(popt)"
      ],
      "metadata": {
        "colab": {
          "base_uri": "https://localhost:8080/"
        },
        "id": "nQsIadhmtZXH",
        "outputId": "d042e457-5798-4bef-c428-740a4e6b08c0"
      },
      "execution_count": 16,
      "outputs": [
        {
          "output_type": "stream",
          "name": "stdout",
          "text": [
            "[ 2.12667254  1.19553068 -3.76188436]\n"
          ]
        }
      ]
    },
    {
      "cell_type": "markdown",
      "source": [
        "Above result indicates that we can use function $y=2x-4$ to fit the value, in which x is the length of playlist and y is the number of songs needed to play every song in the list."
      ],
      "metadata": {
        "id": "yus9_UWnupHc"
      }
    },
    {
      "cell_type": "markdown",
      "source": [
        "Actually, the function for the average number of songs to play every song in his list could be obtained as $N(n) = n(1+\\frac{1}{2}+\\frac{2}{3}+...+\\frac{1}{n})$. This could be obtained from the following derivation."
      ],
      "metadata": {
        "id": "vlsgXSVwX7Yc"
      }
    },
    {
      "cell_type": "markdown",
      "source": [
        "Denote $T_i=$ the time needed to play the i-th song after playing i-1 different songs.\n",
        "\n",
        "After playing i-1 different songs, the probability that the next song is a new one is $P_{i}=\\frac{n-(i-1)}{n}$.\n",
        "Therefore, $T_i = 1/P_{i}=\\frac{n}{n-i+1}$\n",
        "\n",
        "Then our target time can be represented as\n",
        "\n",
        "$T=T_1+T_2+...+T_n=\\frac{n}{n}+\\frac{n}{n-1}+\\frac{n}{n-2}+...+\\frac{n}{1}=n(1+\\frac{1}{2}+\\frac{1}{3}+...+\\frac{1}{n})$"
      ],
      "metadata": {
        "id": "07F2QKCIwG_b"
      }
    },
    {
      "cell_type": "markdown",
      "source": [
        "___\n",
        "\n",
        "**(b)** On the other hand, Sid has realized that his son wakes up whenever he hears a song that has been played before (clever, isn't he!). Use your previous simulator to figure out how many songs Sid's son hears before he wakes up.\n",
        "\n",
        "___"
      ],
      "metadata": {
        "id": "kHPnqRj105lL"
      }
    },
    {
      "cell_type": "markdown",
      "source": [
        "## Ans.\n",
        "\n"
      ],
      "metadata": {
        "id": "o-b5c59b2CV-"
      }
    },
    {
      "cell_type": "code",
      "source": [
        "def sim_song_1(N):\n",
        "  results = []\n",
        "  for _ in range(1000):\n",
        "    song_li = []\n",
        "    while len(set(song_li)) == len(song_li):\n",
        "      song_li.append(np.random.randint(1,N+1))\n",
        "    results.append(len(song_li)-1)\n",
        "  return results"
      ],
      "metadata": {
        "id": "hfvMm-Z7x7Cx"
      },
      "execution_count": 17,
      "outputs": []
    },
    {
      "cell_type": "code",
      "source": [
        "np.random.seed(10)\n",
        "np.mean(sim_song_1(10))"
      ],
      "metadata": {
        "id": "mT-3ogKx2Hzl",
        "colab": {
          "base_uri": "https://localhost:8080/"
        },
        "outputId": "c90fc8d6-91a6-4978-e4f4-2b41948931b4"
      },
      "execution_count": 18,
      "outputs": [
        {
          "output_type": "execute_result",
          "data": {
            "text/plain": [
              "3.603"
            ]
          },
          "metadata": {},
          "execution_count": 18
        }
      ]
    },
    {
      "cell_type": "markdown",
      "source": [
        "The simulation results show that if there are 10 songs in the playlist, then before Sid's son wakes up (which means before the first repetative song appears), he would have heard about 4 songs."
      ],
      "metadata": {
        "id": "FjxQS89R1Kvj"
      }
    },
    {
      "cell_type": "code",
      "source": [
        "np.random.seed(10)\n",
        "li = []\n",
        "for i in range(1,101):\n",
        "  li.append(sim_song_1(i))\n",
        "song_num = np.zeros(len(li))\n",
        "half_widths = np.zeros(len(li))\n",
        "for i in range(len(li)):\n",
        "    song_num[i] = np.mean(li[i])\n",
        "    half_widths[i] = 1.96*(np.std(li[i])/np.sqrt(len(li[i])))"
      ],
      "metadata": {
        "id": "OK8X2KqTquZE"
      },
      "execution_count": 19,
      "outputs": []
    },
    {
      "cell_type": "code",
      "source": [
        "plt.plot(np.arange(1,len(li)+1,1), song_num, label='mean')\n",
        "plt.fill_between(np.arange(1,len(li)+1,1),song_num - half_widths,song_num + half_widths,alpha = 0.2,color='r',label='95% CI')\n",
        "plt.xlabel(\"number of songs in the playlist\")\n",
        "plt.title(\"number of songs to play before waking up\")\n",
        "plt.legend()\n",
        "plt.show()"
      ],
      "metadata": {
        "colab": {
          "base_uri": "https://localhost:8080/",
          "height": 472
        },
        "id": "SX9tyt9Dq4FM",
        "outputId": "bc4532c7-0df9-46c7-bf15-5f5e6e6d6190"
      },
      "execution_count": 20,
      "outputs": [
        {
          "output_type": "display_data",
          "data": {
            "text/plain": [
              "<Figure size 640x480 with 1 Axes>"
            ],
            "image/png": "[encoded data removed]"
          },
          "metadata": {}
        }
      ]
    },
    {
      "cell_type": "code",
      "source": [
        "from scipy.optimize import curve_fit\n",
        "def func(x, a, b,c):\n",
        "  return a*x**b+c\n",
        "popt, pcov = curve_fit(func, np.arange(1,len(li)+1,1), song_num)\n",
        "print(popt)"
      ],
      "metadata": {
        "colab": {
          "base_uri": "https://localhost:8080/"
        },
        "id": "gTHXdoU3sdvA",
        "outputId": "1bcb0802-55d5-4e78-991d-e04d31756ad2"
      },
      "execution_count": 21,
      "outputs": [
        {
          "output_type": "stream",
          "name": "stdout",
          "text": [
            "[ 1.21156763  0.50542737 -0.21066288]\n"
          ]
        }
      ]
    },
    {
      "cell_type": "markdown",
      "source": [
        "Above result implies that we can use function $y=\\sqrt{x}-0.2$ to fit the value, in which x is the length of a playlist, y is the number of songs played before Sid's son wakes up."
      ],
      "metadata": {
        "id": "y2d4u6aotjv-"
      }
    },
    {
      "cell_type": "markdown",
      "source": [
        "___\n",
        "\n",
        "**(c)** Suppose Spotify uses the following poor randomizer: it labels songs as $\\{0,1,2,\\ldots,n-1\\}$, and after playing a song $i$, it then either plays song $(i+1) mod(n)$ or $(i-1)mod(n)$ with probability $1/2$ (i.e., the next or previous song, imagining the songs to be in a ring with $n-1$ wrapping around to $1$). Simulate this randomizer for $n=20$, assuming you always start at song $1$, and find the histogram of the **last song to be played** for the first time using this shuffler.   \n",
        "\n",
        "___"
      ],
      "metadata": {
        "id": "SGw7QR3-2e_3"
      }
    },
    {
      "cell_type": "markdown",
      "source": [
        "## Ans."
      ],
      "metadata": {
        "id": "rbtZKA4I2wzN"
      }
    },
    {
      "cell_type": "code",
      "source": [
        "def spotify_song(N=20):\n",
        "\n",
        "  results = []\n",
        "  for _ in range(1000):\n",
        "     s = 1\n",
        "     song_li = []\n",
        "     song_li.append(s)\n",
        "     while len(set(song_li))< N:\n",
        "       s = (np.random.choice([s-1,s+1])+ N)% N\n",
        "       song_li.append(s)\n",
        "     results.append(s)\n",
        "\n",
        "  return results"
      ],
      "metadata": {
        "id": "tmM1u07njIRV"
      },
      "execution_count": null,
      "outputs": []
    },
    {
      "cell_type": "code",
      "source": [
        "np.random.seed(10)\n",
        "y = spotify_song()\n",
        "plt.hist(y, bins = 20)\n",
        "plt.title(\"Histogram of the last song to be played\")"
      ],
      "metadata": {
        "colab": {
          "base_uri": "https://localhost:8080/",
          "height": 470
        },
        "id": "hpTDBh1PmYCO",
        "outputId": "eb73e29e-26ed-4b3b-e6c6-22b227e9d65b"
      },
      "execution_count": null,
      "outputs": [
        {
          "output_type": "execute_result",
          "data": {
            "text/plain": [
              "Text(0.5, 1.0, 'Histogram of the last song to be played')"
            ]
          },
          "metadata": {},
          "execution_count": 88
        },
        {
          "output_type": "display_data",
          "data": {
            "text/plain": [
              "<Figure size 640x480 with 1 Axes>"
            ],
            "image/png": "[encoded data removed]"
          },
          "metadata": {}
        }
      ]
    },
    {
      "cell_type": "markdown",
      "source": [
        "___\n",
        "\n",
        "**(d) (OPTIONAL)** For the above three questions, try and analytically derive the functions that you should get (and compare)"
      ],
      "metadata": {
        "id": "RtMo9ndo3DbA"
      }
    },
    {
      "cell_type": "markdown",
      "source": [
        "___\n",
        "___\n",
        "\n",
        "# Question 3: The gambler's ruin (20 points)\n",
        "\n",
        "The gambler's ruin is one of the most famous and widely studied models in stochastic processes. Imagine two gamblers $A$ and $B$ are playing a tournament, where they each start with \\$$a$ and \\$$b$ initially, and play a sequence of games, where each game is won by either player with probability $1/2$, with the winner giving \\$$1$ to the loser. Play goes on till one player runs out of money.\n",
        "\n",
        "___\n",
        "\n",
        "**(a)** Simulate this model to find the probability that player $A$ wins the overall tournament. Also, try and derive this analytically, and see how well the two match up.\n",
        "\n",
        "___"
      ],
      "metadata": {
        "id": "Jq3RRJUG2z09"
      }
    },
    {
      "cell_type": "markdown",
      "source": [
        "## Ans."
      ],
      "metadata": {
        "id": "Sor0QvV94lrw"
      }
    },
    {
      "cell_type": "code",
      "source": [
        "import random\n",
        "def gambler_ruin_simulation(a, b):\n",
        "  n = 0\n",
        "  while a > 0 and b > 0:\n",
        "      if random.random() < 0.5:\n",
        "          a += 1\n",
        "          b -= 1\n",
        "      else:\n",
        "          a -= 1\n",
        "          b += 1\n",
        "      n += 1\n",
        "  return a > 0, n\n",
        "\n",
        "num_simulations = 10000\n",
        "initial_a = 30\n",
        "initial_b = 10\n",
        "player_a_wins = sum(gambler_ruin_simulation(initial_a, initial_b)[0] for _ in range(num_simulations))\n",
        "probability_a_wins = player_a_wins / num_simulations\n",
        "print(f\"Probability that player A wins: {probability_a_wins}\")"
      ],
      "metadata": {
        "id": "7QtijqJS4nsY",
        "colab": {
          "base_uri": "https://localhost:8080/"
        },
        "outputId": "4782a52f-5eba-408c-ddbd-775f32842cb1"
      },
      "execution_count": null,
      "outputs": [
        {
          "output_type": "stream",
          "name": "stdout",
          "text": [
            "Probability that player A wins: 0.7434\n"
          ]
        }
      ]
    },
    {
      "cell_type": "markdown",
      "source": [
        "For a single player A, the recurrent relationship is $P_{i} = \\frac{1}{2}P_{i-1} + \\frac{1}{2}P_{i+1}$. Therefore, $\\frac{1}{2} (P_{i}-P_{i-1}) = \\frac{1}{2} (P_{i+1}-P_{i})$. Also, we have $P_{0} = 0, P_{a+b} =1$. By this relationship, we can find $P_{2} = 2P_{1}$, $P_{3} = 3P_{1}$. Thus, $P_{a} = \\frac{a}{a+b}$."
      ],
      "metadata": {
        "id": "FuJpZ7z93UFC"
      }
    },
    {
      "cell_type": "markdown",
      "source": [
        "___\n",
        "**(b)** Another question we can ask is how long it takes for the tournament to end. To study this, simulate the gambler's ruin for a range of values of $a$ and $b$, and use this to try and guess the expected time to ruin.\n",
        "\n",
        "*Hint: Convince yourself that the function must be symmetric in $a$ and $b$, so you can assume $a\\leq b$. Try plotting the expected absorption times for selected values of $a$, while varying $b$.*\n",
        "\n",
        "___"
      ],
      "metadata": {
        "id": "yamKqPJe4syT"
      }
    },
    {
      "cell_type": "markdown",
      "source": [
        "## Ans."
      ],
      "metadata": {
        "id": "NOU2vkmw46k1"
      }
    },
    {
      "cell_type": "code",
      "source": [
        "n = 100\n",
        "res = []\n",
        "for a in range(50,100,10):\n",
        "  tmp = []\n",
        "  for b in range(a, 100,10):\n",
        "    time = 0\n",
        "    for i in range(n):\n",
        "      time += gambler_ruin_simulation(a, b)[1]\n",
        "    tmp.append(time/n)\n",
        "  res.append(tmp)\n"
      ],
      "metadata": {
        "id": "nTPZla0S47HJ"
      },
      "execution_count": null,
      "outputs": []
    },
    {
      "cell_type": "code",
      "source": [
        "df = pd.DataFrame(res)\n",
        "df"
      ],
      "metadata": {
        "colab": {
          "base_uri": "https://localhost:8080/",
          "height": 204
        },
        "id": "jlaSdfLZ9Cn8",
        "outputId": "61058a24-9c91-45fb-8f37-959874ed776c"
      },
      "execution_count": null,
      "outputs": [
        {
          "output_type": "execute_result",
          "data": {
            "text/plain": [
              "         0        1        2        3       4\n",
              "0  2295.50  3736.74  3039.80  4101.60  4430.8\n",
              "1  3529.22  4321.78  4443.66  5547.52     NaN\n",
              "2  5131.88  4983.68  6105.78      NaN     NaN\n",
              "3  7133.46  5885.66      NaN      NaN     NaN\n",
              "4  7780.66      NaN      NaN      NaN     NaN"
            ],
            "text/html": [
              "\n",
              "  <div id=\"df-cea41212-a82d-4237-9965-404c11138de6\" class=\"colab-df-container\">\n",
              "    <div>\n",
              "<style scoped>\n",
              "    .dataframe tbody tr th:only-of-type {\n",
              "        vertical-align: middle;\n",
              "    }\n",
              "\n",
              "    .dataframe tbody tr th {\n",
              "        vertical-align: top;\n",
              "    }\n",
              "\n",
              "    .dataframe thead th {\n",
              "        text-align: right;\n",
              "    }\n",
              "</style>\n",
              "<table border=\"1\" class=\"dataframe\">\n",
              "  <thead>\n",
              "    <tr style=\"text-align: right;\">\n",
              "      <th></th>\n",
              "      <th>0</th>\n",
              "      <th>1</th>\n",
              "      <th>2</th>\n",
              "      <th>3</th>\n",
              "      <th>4</th>\n",
              "    </tr>\n",
              "  </thead>\n",
              "  <tbody>\n",
              "    <tr>\n",
              "      <th>0</th>\n",
              "      <td>2295.50</td>\n",
              "      <td>3736.74</td>\n",
              "      <td>3039.80</td>\n",
              "      <td>4101.60</td>\n",
              "      <td>4430.8</td>\n",
              "    </tr>\n",
              "    <tr>\n",
              "      <th>1</th>\n",
              "      <td>3529.22</td>\n",
              "      <td>4321.78</td>\n",
              "      <td>4443.66</td>\n",
              "      <td>5547.52</td>\n",
              "      <td>NaN</td>\n",
              "    </tr>\n",
              "    <tr>\n",
              "      <th>2</th>\n",
              "      <td>5131.88</td>\n",
              "      <td>4983.68</td>\n",
              "      <td>6105.78</td>\n",
              "      <td>NaN</td>\n",
              "      <td>NaN</td>\n",
              "    </tr>\n",
              "    <tr>\n",
              "      <th>3</th>\n",
              "      <td>7133.46</td>\n",
              "      <td>5885.66</td>\n",
              "      <td>NaN</td>\n",
              "      <td>NaN</td>\n",
              "      <td>NaN</td>\n",
              "    </tr>\n",
              "    <tr>\n",
              "      <th>4</th>\n",
              "      <td>7780.66</td>\n",
              "      <td>NaN</td>\n",
              "      <td>NaN</td>\n",
              "      <td>NaN</td>\n",
              "      <td>NaN</td>\n",
              "    </tr>\n",
              "  </tbody>\n",
              "</table>\n",
              "</div>\n",
              "    <div class=\"colab-df-buttons\">\n",
              "\n",
              "  <div class=\"colab-df-container\">\n",
              "    <button class=\"colab-df-convert\" onclick=\"convertToInteractive('df-cea41212-a82d-4237-9965-404c11138de6')\"\n",
              "            title=\"Convert this dataframe to an interactive table.\"\n",
              "            style=\"display:none;\">\n",
              "\n",
              "  <svg xmlns=\"http://www.w3.org/2000/svg\" height=\"24px\" viewBox=\"0 -960 960 960\">\n",
              "    <path d=\"M120-120v-720h720v720H120Zm60-500h600v-160H180v160Zm220 220h160v-160H400v160Zm0 220h160v-160H400v160ZM180-400h160v-160H180v160Zm440 0h160v-160H620v160ZM180-180h160v-160H180v160Zm440 0h160v-160H620v160Z\"/>\n",
              "  </svg>\n",
              "    </button>\n",
              "\n",
              "  <style>\n",
              "    .colab-df-container {\n",
              "      display:flex;\n",
              "      gap: 12px;\n",
              "    }\n",
              "\n",
              "    .colab-df-convert {\n",
              "      background-color: #E8F0FE;\n",
              "      border: none;\n",
              "      border-radius: 50%;\n",
              "      cursor: pointer;\n",
              "      display: none;\n",
              "      fill: #1967D2;\n",
              "      height: 32px;\n",
              "      padding: 0 0 0 0;\n",
              "      width: 32px;\n",
              "    }\n",
              "\n",
              "    .colab-df-convert:hover {\n",
              "      background-color: #E2EBFA;\n",
              "      box-shadow: 0px 1px 2px rgba(60, 64, 67, 0.3), 0px 1px 3px 1px rgba(60, 64, 67, 0.15);\n",
              "      fill: #174EA6;\n",
              "    }\n",
              "\n",
              "    .colab-df-buttons div {\n",
              "      margin-bottom: 4px;\n",
              "    }\n",
              "\n",
              "    [theme=dark] .colab-df-convert {\n",
              "      background-color: #3B4455;\n",
              "      fill: #D2E3FC;\n",
              "    }\n",
              "\n",
              "    [theme=dark] .colab-df-convert:hover {\n",
              "      background-color: #434B5C;\n",
              "      box-shadow: 0px 1px 3px 1px rgba(0, 0, 0, 0.15);\n",
              "      filter: drop-shadow(0px 1px 2px rgba(0, 0, 0, 0.3));\n",
              "      fill: #FFFFFF;\n",
              "    }\n",
              "  </style>\n",
              "\n",
              "    <script>\n",
              "      const buttonEl =\n",
              "        document.querySelector('#df-cea41212-a82d-4237-9965-404c11138de6 button.colab-df-convert');\n",
              "      buttonEl.style.display =\n",
              "        google.colab.kernel.accessAllowed ? 'block' : 'none';\n",
              "\n",
              "      async function convertToInteractive(key) {\n",
              "        const element = document.querySelector('#df-cea41212-a82d-4237-9965-404c11138de6');\n",
              "        const dataTable =\n",
              "          await google.colab.kernel.invokeFunction('convertToInteractive',\n",
              "                                                    [key], {});\n",
              "        if (!dataTable) return;\n",
              "\n",
              "        const docLinkHtml = 'Like what you see? Visit the ' +\n",
              "          '<a target=\"_blank\" href=https://colab.research.google.com/notebooks/data_table.ipynb>data table notebook</a>'\n",
              "          + ' to learn more about interactive tables.';\n",
              "        element.innerHTML = '';\n",
              "        dataTable['output_type'] = 'display_data';\n",
              "        await google.colab.output.renderOutput(dataTable, element);\n",
              "        const docLink = document.createElement('div');\n",
              "        docLink.innerHTML = docLinkHtml;\n",
              "        element.appendChild(docLink);\n",
              "      }\n",
              "    </script>\n",
              "  </div>\n",
              "\n",
              "\n",
              "<div id=\"df-d59e9e27-2d48-49c9-a327-e854b6685c03\">\n",
              "  <button class=\"colab-df-quickchart\" onclick=\"quickchart('df-d59e9e27-2d48-49c9-a327-e854b6685c03')\"\n",
              "            title=\"Suggest charts\"\n",
              "            style=\"display:none;\">\n",
              "\n",
              "<svg xmlns=\"http://www.w3.org/2000/svg\" height=\"24px\"viewBox=\"0 0 24 24\"\n",
              "     width=\"24px\">\n",
              "    <g>\n",
              "        <path d=\"M19 3H5c-1.1 0-2 .9-2 2v14c0 1.1.9 2 2 2h14c1.1 0 2-.9 2-2V5c0-1.1-.9-2-2-2zM9 17H7v-7h2v7zm4 0h-2V7h2v10zm4 0h-2v-4h2v4z\"/>\n",
              "    </g>\n",
              "</svg>\n",
              "  </button>\n",
              "\n",
              "<style>\n",
              "  .colab-df-quickchart {\n",
              "      --bg-color: #E8F0FE;\n",
              "      --fill-color: #1967D2;\n",
              "      --hover-bg-color: #E2EBFA;\n",
              "      --hover-fill-color: #174EA6;\n",
              "      --disabled-fill-color: #AAA;\n",
              "      --disabled-bg-color: #DDD;\n",
              "  }\n",
              "\n",
              "  [theme=dark] .colab-df-quickchart {\n",
              "      --bg-color: #3B4455;\n",
              "      --fill-color: #D2E3FC;\n",
              "      --hover-bg-color: #434B5C;\n",
              "      --hover-fill-color: #FFFFFF;\n",
              "      --disabled-bg-color: #3B4455;\n",
              "      --disabled-fill-color: #666;\n",
              "  }\n",
              "\n",
              "  .colab-df-quickchart {\n",
              "    background-color: var(--bg-color);\n",
              "    border: none;\n",
              "    border-radius: 50%;\n",
              "    cursor: pointer;\n",
              "    display: none;\n",
              "    fill: var(--fill-color);\n",
              "    height: 32px;\n",
              "    padding: 0;\n",
              "    width: 32px;\n",
              "  }\n",
              "\n",
              "  .colab-df-quickchart:hover {\n",
              "    background-color: var(--hover-bg-color);\n",
              "    box-shadow: 0 1px 2px rgba(60, 64, 67, 0.3), 0 1px 3px 1px rgba(60, 64, 67, 0.15);\n",
              "    fill: var(--button-hover-fill-color);\n",
              "  }\n",
              "\n",
              "  .colab-df-quickchart-complete:disabled,\n",
              "  .colab-df-quickchart-complete:disabled:hover {\n",
              "    background-color: var(--disabled-bg-color);\n",
              "    fill: var(--disabled-fill-color);\n",
              "    box-shadow: none;\n",
              "  }\n",
              "\n",
              "  .colab-df-spinner {\n",
              "    border: 2px solid var(--fill-color);\n",
              "    border-color: transparent;\n",
              "    border-bottom-color: var(--fill-color);\n",
              "    animation:\n",
              "      spin 1s steps(1) infinite;\n",
              "  }\n",
              "\n",
              "  @keyframes spin {\n",
              "    0% {\n",
              "      border-color: transparent;\n",
              "      border-bottom-color: var(--fill-color);\n",
              "      border-left-color: var(--fill-color);\n",
              "    }\n",
              "    20% {\n",
              "      border-color: transparent;\n",
              "      border-left-color: var(--fill-color);\n",
              "      border-top-color: var(--fill-color);\n",
              "    }\n",
              "    30% {\n",
              "      border-color: transparent;\n",
              "      border-left-color: var(--fill-color);\n",
              "      border-top-color: var(--fill-color);\n",
              "      border-right-color: var(--fill-color);\n",
              "    }\n",
              "    40% {\n",
              "      border-color: transparent;\n",
              "      border-right-color: var(--fill-color);\n",
              "      border-top-color: var(--fill-color);\n",
              "    }\n",
              "    60% {\n",
              "      border-color: transparent;\n",
              "      border-right-color: var(--fill-color);\n",
              "    }\n",
              "    80% {\n",
              "      border-color: transparent;\n",
              "      border-right-color: var(--fill-color);\n",
              "      border-bottom-color: var(--fill-color);\n",
              "    }\n",
              "    90% {\n",
              "      border-color: transparent;\n",
              "      border-bottom-color: var(--fill-color);\n",
              "    }\n",
              "  }\n",
              "</style>\n",
              "\n",
              "  <script>\n",
              "    async function quickchart(key) {\n",
              "      const quickchartButtonEl =\n",
              "        document.querySelector('#' + key + ' button');\n",
              "      quickchartButtonEl.disabled = true;  // To prevent multiple clicks.\n",
              "      quickchartButtonEl.classList.add('colab-df-spinner');\n",
              "      try {\n",
              "        const charts = await google.colab.kernel.invokeFunction(\n",
              "            'suggestCharts', [key], {});\n",
              "      } catch (error) {\n",
              "        console.error('Error during call to suggestCharts:', error);\n",
              "      }\n",
              "      quickchartButtonEl.classList.remove('colab-df-spinner');\n",
              "      quickchartButtonEl.classList.add('colab-df-quickchart-complete');\n",
              "    }\n",
              "    (() => {\n",
              "      let quickchartButtonEl =\n",
              "        document.querySelector('#df-d59e9e27-2d48-49c9-a327-e854b6685c03 button');\n",
              "      quickchartButtonEl.style.display =\n",
              "        google.colab.kernel.accessAllowed ? 'block' : 'none';\n",
              "    })();\n",
              "  </script>\n",
              "</div>\n",
              "    </div>\n",
              "  </div>\n"
            ]
          },
          "metadata": {},
          "execution_count": 15
        }
      ]
    },
    {
      "cell_type": "code",
      "source": [
        "for i in range(df.shape[0]):\n",
        "    row_data = df.iloc[i].dropna().values\n",
        "    if len(row_data) > 0:\n",
        "        plt.plot(row_data, label=f'Row {i}')\n",
        "plt.legend()"
      ],
      "metadata": {
        "colab": {
          "base_uri": "https://localhost:8080/",
          "height": 449
        },
        "id": "rCpP-T0PwE1M",
        "outputId": "432123b4-3f11-436c-b16d-846002916c2f"
      },
      "execution_count": null,
      "outputs": [
        {
          "output_type": "execute_result",
          "data": {
            "text/plain": [
              "<matplotlib.legend.Legend at 0x7eaf6658b430>"
            ]
          },
          "metadata": {},
          "execution_count": 16
        },
        {
          "output_type": "display_data",
          "data": {
            "text/plain": [
              "<Figure size 640x480 with 1 Axes>"
            ],
            "image/png": "[encoded data removed]"
          },
          "metadata": {}
        }
      ]
    },
    {
      "cell_type": "markdown",
      "metadata": {
        "id": "YX0Mw-EVb4GE"
      },
      "source": [
        "___\n",
        "___\n",
        "\n",
        "# Question 4: Simulation assigments take forever (25 points)\n",
        "\n",
        "You are convinced that Simulation homeworks take the longest time compared to all other assignments, while Sid maintains that all assignment times are identically distributed. To decide this debate once and for all, you decide to record how long it takes you to do your assignment, and then survey your friends on how long it took them to do their last assignment until you find someone who took longer$\\ldots$"
      ]
    },
    {
      "cell_type": "markdown",
      "metadata": {
        "id": "Yjy3dHqpb4GF"
      },
      "source": [
        "___\n",
        "\n",
        "**(a)**\n",
        "Suppose Sid is right (!) and all assignment completion times are truly identically distributed. Formally suppose your own assignment takes time (in hours) distributed as $T_0\\sim Exp(0.5)$, and similarly the $i^{th}$ friend you survey also takes time $T_i\\sim Exp(0.5)$, independent of all other friends. Run 100 simulations and report a $95\\%$ CI for the expected number of friends you need to survey to find someone who takes longer.\n",
        "___\n"
      ]
    },
    {
      "cell_type": "markdown",
      "metadata": {
        "id": "wOQnI769b4GF"
      },
      "source": [
        "## Ans.\n"
      ]
    },
    {
      "cell_type": "code",
      "source": [
        "#np.random.seed(10)\n",
        "def sim_survey(N = 100):\n",
        "  n_sim = N\n",
        "  lambda_0 = 0.5\n",
        "  survey_num = []\n",
        "  for _ in range(n_sim):\n",
        "    t_0 = np.random.exponential(1/lambda_0)\n",
        "    t = -1\n",
        "    n = 0\n",
        "    while t <= t_0:\n",
        "      t = np.random.exponential(1/lambda_0)\n",
        "      n += 1\n",
        "    survey_num.append(n)\n",
        "  return survey_num"
      ],
      "metadata": {
        "id": "EoCc-Vp_9xFW"
      },
      "execution_count": null,
      "outputs": []
    },
    {
      "cell_type": "code",
      "source": [
        "survey_num = sim_survey()\n",
        "estimate = np.mean(survey_num)\n",
        "half_width = 1.96*np.std(survey_num)/np.sqrt(len(survey_num)-1)\n",
        "ci = [estimate-half_width, estimate+half_width]\n",
        "print(\"The expected number of friends needed to be surveyed is \" + str(estimate))\n",
        "print(\"The 95% CI for this estimation is \" + str(ci))"
      ],
      "metadata": {
        "colab": {
          "base_uri": "https://localhost:8080/"
        },
        "id": "6qg6-TcW-0xh",
        "outputId": "fe11b68a-5539-449b-ac4f-8d7f364d8bcf"
      },
      "execution_count": null,
      "outputs": [
        {
          "output_type": "stream",
          "name": "stdout",
          "text": [
            "The expected number of friends needed to be surveyed is 7.07\n",
            "The 95% CI for this estimation is [1.2997882949063309, 12.840211705093669]\n"
          ]
        }
      ]
    },
    {
      "cell_type": "markdown",
      "metadata": {
        "id": "DRpHC9hbb4GF"
      },
      "source": [
        "___\n",
        "\n",
        "**(b)** You are concerned that the CI looks a little wide, so decide to do more replications to fix the problem. Repeat the above simulation with number of replications $n\\in\\{100,500,1000,1500,2000,2500,\\ldots,9500,10000\\}$, and plot the estimates and $95\\%$ CIs.\n",
        "___"
      ]
    },
    {
      "cell_type": "markdown",
      "metadata": {
        "id": "1khe5-56b4GF"
      },
      "source": [
        "## Ans.\n"
      ]
    },
    {
      "cell_type": "code",
      "source": [
        "n = [100] + [i for i in range(500, 10001, 500)]\n",
        "est = np.zeros(len(n))\n",
        "half_width = np.zeros(len(n))\n",
        "ci = []\n",
        "for i in range(len(n)):\n",
        "  sim = sim_survey(N = n[i])\n",
        "  est[i] = np.mean(sim)\n",
        "  half_width[i] = 1.96*(np.std(sim)/np.sqrt(len(sim)))\n",
        "  ci.append((est[i]-half_width[i],est[i]+half_width[i]))"
      ],
      "metadata": {
        "id": "00N4KuJqlEHf"
      },
      "execution_count": null,
      "outputs": []
    },
    {
      "cell_type": "code",
      "source": [
        "plt.plot(n, est, label='estimation')\n",
        "#plt.fill_between(n,est - half_width, est + half_width,alpha = 0.2,color='r',label='95% CI')\n",
        "plt.errorbar(n, est, yerr=half_width, color='black', markersize = 3,\n",
        "             linestyle=\"None\", marker='s', capsize=3, ecolor='grey', elinewidth=2, label='95% CI')\n",
        "plt.xlabel(\"n\")\n",
        "plt.ylabel(\"number of survey students\")\n",
        "plt.title(\"number of students needed to be surveyed\")\n",
        "plt.legend()\n",
        "plt.show()"
      ],
      "metadata": {
        "colab": {
          "base_uri": "https://localhost:8080/",
          "height": 472
        },
        "id": "p0_rYHSrAHqC",
        "outputId": "edb28218-4b3b-4d7f-c599-ea409e597679"
      },
      "execution_count": null,
      "outputs": [
        {
          "output_type": "display_data",
          "data": {
            "text/plain": [
              "<Figure size 640x480 with 1 Axes>"
            ],
            "image/png": "[encoded data removed]"
          },
          "metadata": {}
        }
      ]
    },
    {
      "cell_type": "markdown",
      "source": [
        "___\n",
        "**(c)** Hopefully you found the previous part a little surprising(?) Why is that the case? Well, this question highlights an important aspect of simulation that we have taken for granted in past problems -- in order to get an estimator for an unknown quantity, we *need that quantity to be finite*! Find an expression for computing the expected number of queries till we get one which is larger in the above setting, and argue that it is infinite.\n",
        "\n",
        "*Hint: Remember how we used linearity of expectation and indicator random variables before? Try doing the same, with indicator variables for the $i^{th}$ person (for each $i\\in\\{1,2,\\ldots\\}$) being the first person surveyed who took longer than you).*\n",
        "___\n"
      ],
      "metadata": {
        "id": "9NNPvFQY0HM4"
      }
    },
    {
      "cell_type": "markdown",
      "source": [
        "## Ans."
      ],
      "metadata": {
        "id": "g2AJuYY20z1W"
      }
    },
    {
      "cell_type": "markdown",
      "source": [
        "For the i-th person, the probability that this student takes longer time than me is\n",
        "\n",
        "$P(T_1 < T_0,T_2 < T_0, ..., T_{i-1} < T_0,T_i > T_0)=P(T_1 < T_0,T_2 < T_0, ..., T_{i-1} < T_0)-P(T_1 < T_0,T_2 < T_0, ..., T_{i-1} < T_0,T_i < T_0)=\\frac{1}{i-1}-\\frac{1}{i}$.\n",
        "\n",
        "notice that the probability that the first student takes longer time than me is $\\frac{1}{2}$\n",
        "\n",
        "Therefore, if we limit the number of simulations to be n, the expected number of queries should have the expression:\n",
        "\n",
        "$\\sum\\limits_{i=1}^n iP_i=\\frac{1}{2}+\\sum\\limits_{i=2}^n i(\\frac{1}{i-1}-\\frac{1}{i})=\\frac{1}{2}+\\sum\\limits_{i=2}^n (\\frac{i}{i-1}-1)=\\frac{1}{2}+\\sum\\limits_{i=1}^{n-1}\\frac{1}{i}\\approx\\frac{1}{2}+log(n-1)$\n",
        "\n",
        "As n goes to infinity, $log(n-1)$ will approach to infinity. Thus, the expectation value would go to infinity."
      ],
      "metadata": {
        "id": "rZLnqtFnck1g"
      }
    }
  ],
  "metadata": {
    "kernelspec": {
      "display_name": "Python 3",
      "language": "python",
      "name": "python3"
    },
    "language_info": {
      "codemirror_mode": {
        "name": "ipython",
        "version": 3
      },
      "file_extension": ".py",
      "mimetype": "text/x-python",
      "name": "python",
      "nbconvert_exporter": "python",
      "pygments_lexer": "ipython3",
      "version": "3.6.4"
    },
    "colab": {
      "provenance": []
    }
  },
  "nbformat": 4,
  "nbformat_minor": 0
}